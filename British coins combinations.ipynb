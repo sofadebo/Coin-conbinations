{
 "cells": [
  {
   "cell_type": "code",
   "execution_count": 1,
   "metadata": {},
   "outputs": [],
   "source": [
    "import matplotlib.pyplot as p\n",
    "import math\n",
    "import collections\n",
    "import numpy as np\n",
    "import pandas as pd"
   ]
  },
  {
   "cell_type": "markdown",
   "metadata": {},
   "source": [
    "# UK coins denominations: \n",
    "    One Penny\n",
    "    Two Pence\n",
    "    Five Pence\n",
    "    Ten Pence\n",
    "    Twenty Pence\n",
    "    Twenty-Five Pence\n",
    "    Fifty Pence\n",
    "    Hundred Pence"
   ]
  },
  {
   "cell_type": "markdown",
   "metadata": {},
   "source": [
    "# US coins denominations:\n",
    "    One Cent\n",
    "    Five Cent\n",
    "    Ten Cent\n",
    "    Twenty-Five Cent\n",
    "    Fifty Cent\n",
    "    Hundred Cent"
   ]
  },
  {
   "cell_type": "code",
   "execution_count": 2,
   "metadata": {},
   "outputs": [],
   "source": [
    "def find_combinations(total):\n",
    "    combinations_amounts = []\n",
    "\n",
    "    for amount_100 in range(0, total+1, 100):\n",
    "        for amount_50 in range(0, total+1, 50):\n",
    "            for amount_25 in range(0, total+1, 25):\n",
    "                for amount_20 in range(0, total+1, 20):\n",
    "                    for amount_10 in range(0, total+1, 10):\n",
    "                        for amount_5 in range(0, total+1, 5):\n",
    "                            for amount_2 in range(0, total+1, 2):\n",
    "                                total_so_far = amount_100 + amount_50 + amount_25 + amount_20 + amount_10 + amount_5 + amount_2\n",
    "                                if total_so_far <= total:\n",
    "                                    combinations_amounts.append([amount_100, amount_50, amount_25, amount_20, amount_10, amount_5, amount_2, total - total_so_far])\n",
    "\n",
    "    return combinations_amounts"
   ]
  },
  {
   "cell_type": "code",
   "execution_count": 14,
   "metadata": {},
   "outputs": [
    {
     "data": {
      "image/png": "[encoded data removed]",
      "text/plain": [
       "<Figure size 432x288 with 1 Axes>"
      ]
     },
     "metadata": {
      "needs_background": "light"
     },
     "output_type": "display_data"
    }
   ],
   "source": [
    "totals = range(100, 500, 100)\n",
    "lengths = [len(find_combinations(total)) for total in totals]\n",
    "p.plot(totals, lengths)\n",
    "p.show()"
   ]
  },
  {
   "cell_type": "code",
   "execution_count": null,
   "metadata": {},
   "outputs": [],
   "source": []
  }
 ],
 "metadata": {
  "kernelspec": {
   "display_name": "Python 3",
   "language": "python",
   "name": "python3"
  },
  "language_info": {
   "codemirror_mode": {
    "name": "ipython",
    "version": 3
   },
   "file_extension": ".py",
   "mimetype": "text/x-python",
   "name": "python",
   "nbconvert_exporter": "python",
   "pygments_lexer": "ipython3",
   "version": "3.7.6"
  }
 },
 "nbformat": 4,
 "nbformat_minor": 4
}
